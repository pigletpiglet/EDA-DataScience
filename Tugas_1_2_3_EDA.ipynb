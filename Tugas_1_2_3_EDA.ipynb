{
  "nbformat": 4,
  "nbformat_minor": 0,
  "metadata": {
    "colab": {
      "name": "Tugas 1 2 3 EDA.ipynb",
      "provenance": [],
      "collapsed_sections": [
        "9np1Xy3latG3",
        "WX0eXHvLayVm",
        "0Ne9u_fSa7Pl",
        "iPfcnMTByDJX",
        "_1laXFh82R--",
        "BlSQA2Brk_q7",
        "6YwAB2O_lK38",
        "tisTUvCEXukC",
        "3YPgvGyedOh4",
        "YGc7yQRdr4zg",
        "hAtpXXOIwe73",
        "fiLAKg8xtBLm"
      ],
      "toc_visible": true
    },
    "kernelspec": {
      "display_name": "Python 3",
      "language": "python",
      "name": "python3"
    },
    "language_info": {
      "codemirror_mode": {
        "name": "ipython",
        "version": 3
      },
      "file_extension": ".py",
      "mimetype": "text/x-python",
      "name": "python",
      "nbconvert_exporter": "python",
      "pygments_lexer": "ipython3",
      "version": "3.7.0"
    }
  },
  "cells": [
    {
      "cell_type": "markdown",
      "metadata": {
        "id": "NJNhGuDT_LEI"
      },
      "source": [
        "## Tugas 1"
      ]
    },
    {
      "cell_type": "code",
      "metadata": {
        "id": "nZ1U0eSSn2mM"
      },
      "source": [
        "import warnings; warnings.simplefilter('ignore')\n",
        "import pandas as pd, matplotlib.pyplot as plt, seaborn as sns, numpy as np\n",
        "import matplotlib.cm as cm\n",
        "from collections import Counter\n",
        "plt.style.use('bmh'); sns.set()\n",
        "# Importing CSV data  https://pandas.pydata.org/pandas-docs/stable/reference/api/pandas.read_csv.html\n",
        "try:\n",
        "    # Running Locally \n",
        "    price = pd.read_csv('data/price.csv')\n",
        "except:\n",
        "    # Running in Google Colab\n",
        "    !mkdir data\n",
        "    !wget -P data/ https://raw.githubusercontent.com/taudata-indonesia/eLearning/master/data/price.csv\n",
        "    price = pd.read_csv('data/price.csv')"
      ],
      "execution_count": 19,
      "outputs": []
    },
    {
      "cell_type": "code",
      "metadata": {
        "id": "MFAk_Xi5rQYn"
      },
      "source": [
        "price2 = price[np.abs(price.House_Price - price.House_Price.mean())<=(2*price.House_Price.std())]"
      ],
      "execution_count": 20,
      "outputs": []
    },
    {
      "cell_type": "code",
      "metadata": {
        "colab": {
          "base_uri": "https://localhost:8080/",
          "height": 97
        },
        "id": "KjZ2jirdrbEK",
        "outputId": "c1418797-6610-47ee-b391-c1f206fafd12"
      },
      "source": [
        "Q1 = price2['House_Price'].quantile(0.25)\n",
        "Q3 = price2['House_Price'].quantile(0.75)\n",
        "IQR = Q3 - Q1\n",
        "print('Q1 = {}, Q3 = {}, IQR = {}'.format(Q1,Q3,IQR))\n",
        "\n",
        "outliers_atas = (price2['House_Price'] > (Q3 + 1.5*IQR))\n",
        "price2.loc[outliers_atas].head()"
      ],
      "execution_count": 21,
      "outputs": [
        {
          "output_type": "stream",
          "text": [
            "Q1 = 4660000.0, Q3 = 7180500.0, IQR = 2520500.0\n"
          ],
          "name": "stdout"
        },
        {
          "output_type": "execute_result",
          "data": {
            "text/html": [
              "<div>\n",
              "<style scoped>\n",
              "    .dataframe tbody tr th:only-of-type {\n",
              "        vertical-align: middle;\n",
              "    }\n",
              "\n",
              "    .dataframe tbody tr th {\n",
              "        vertical-align: top;\n",
              "    }\n",
              "\n",
              "    .dataframe thead th {\n",
              "        text-align: right;\n",
              "    }\n",
              "</style>\n",
              "<table border=\"1\" class=\"dataframe\">\n",
              "  <thead>\n",
              "    <tr style=\"text-align: right;\">\n",
              "      <th></th>\n",
              "      <th>Observation</th>\n",
              "      <th>Dist_Taxi</th>\n",
              "      <th>Dist_Market</th>\n",
              "      <th>Dist_Hospital</th>\n",
              "      <th>Carpet</th>\n",
              "      <th>Builtup</th>\n",
              "      <th>Parking</th>\n",
              "      <th>City_Category</th>\n",
              "      <th>Rainfall</th>\n",
              "      <th>House_Price</th>\n",
              "    </tr>\n",
              "  </thead>\n",
              "  <tbody>\n",
              "    <tr>\n",
              "      <th>678</th>\n",
              "      <td>679</td>\n",
              "      <td>7288.0</td>\n",
              "      <td>9560.0</td>\n",
              "      <td>12531.0</td>\n",
              "      <td>1989.0</td>\n",
              "      <td>2414.0</td>\n",
              "      <td>No Parking</td>\n",
              "      <td>CAT A</td>\n",
              "      <td>860</td>\n",
              "      <td>11632000</td>\n",
              "    </tr>\n",
              "  </tbody>\n",
              "</table>\n",
              "</div>"
            ],
            "text/plain": [
              "     Observation  Dist_Taxi  Dist_Market  ...  City_Category  Rainfall  House_Price\n",
              "678          679     7288.0       9560.0  ...          CAT A       860     11632000\n",
              "\n",
              "[1 rows x 10 columns]"
            ]
          },
          "metadata": {
            "tags": []
          },
          "execution_count": 21
        }
      ]
    },
    {
      "cell_type": "markdown",
      "metadata": {
        "id": "RUFJA0z1_QiE"
      },
      "source": [
        "## Tugas 2"
      ]
    },
    {
      "cell_type": "code",
      "metadata": {
        "colab": {
          "base_uri": "https://localhost:8080/",
          "height": 382
        },
        "id": "CqiSdfyY_hrb",
        "outputId": "73ff13ac-fb84-450a-8d63-b8631997ed82"
      },
      "source": [
        "p = sns.catplot(x=\"Parking\", y=\"House_Price\", hue=\"City_Category\", kind=\"box\", data=price2)"
      ],
      "execution_count": 22,
      "outputs": [
        {
          "output_type": "display_data",
          "data": {
            "image/png": "[encoded data removed]",
            "text/plain": [
              "<Figure size 453.425x360 with 1 Axes>"
            ]
          },
          "metadata": {
            "tags": []
          }
        }
      ]
    },
    {
      "cell_type": "code",
      "metadata": {
        "colab": {
          "base_uri": "https://localhost:8080/",
          "height": 285
        },
        "id": "o08fG20zrfEi",
        "outputId": "5610d055-b2fc-4005-f438-dfeb462d0233"
      },
      "source": [
        "CatA = price2[price2.City_Category =='CAT A']\n",
        "p1 = sns.boxplot(x = 'House_Price', y = 'Parking', data = CatA)"
      ],
      "execution_count": 23,
      "outputs": [
        {
          "output_type": "display_data",
          "data": {
            "image/png": "[encoded data removed]",
            "text/plain": [
              "<Figure size 432x288 with 1 Axes>"
            ]
          },
          "metadata": {
            "tags": []
          }
        }
      ]
    },
    {
      "cell_type": "code",
      "metadata": {
        "id": "k5q2hnMGxQ-q"
      },
      "source": [
        "#Outliers bawah Category A\n",
        "\n",
        "CatA_Open = CatA[CatA.Parking == 'Open']\n",
        "\n",
        "Q1_OA = CatA_Open['House_Price'].quantile(0.25)\n",
        "Q3_OA = CatA_Open['House_Price'].quantile(0.75)\n",
        "IQR_OA = Q3_OA - Q1_OA\n",
        "outliers_bawah_OA = (CatA_Open['House_Price']< (Q1_OA - 1.5*IQR_OA))\n",
        "\n",
        "CatA_Covered = CatA[CatA.Parking == 'Covered']\n",
        "\n",
        "Q1_CA = CatA_Covered['House_Price'].quantile(0.25)\n",
        "Q3_CA = CatA_Covered['House_Price'].quantile(0.75)\n",
        "IQR_CA = Q3_CA - Q1_CA\n",
        "outliers_bawah_CA = (CatA_Covered['House_Price']< (Q1_CA - 1.5*IQR_CA))\n",
        "\n",
        "CatA_NPA = CatA[CatA.Parking == 'No Parking']\n",
        "\n",
        "Q1_NPA = CatA_NPA['House_Price'].quantile(0.25)\n",
        "Q3_NPA = CatA_NPA['House_Price'].quantile(0.75)\n",
        "IQR_NPA = Q3_NPA - Q1_NPA\n",
        "outliers_bawah_NPA = (CatA_NPA['House_Price']< (Q1_NPA - 1.5*IQR_NPA))\n"
      ],
      "execution_count": 24,
      "outputs": []
    },
    {
      "cell_type": "code",
      "metadata": {
        "colab": {
          "base_uri": "https://localhost:8080/",
          "height": 80
        },
        "id": "xZ_TM0aW-uSN",
        "outputId": "70e5e559-0c3a-49c8-bec9-b4c3f695338e"
      },
      "source": [
        "CatA_Open.loc[outliers_bawah_OA].head()"
      ],
      "execution_count": 25,
      "outputs": [
        {
          "output_type": "execute_result",
          "data": {
            "text/html": [
              "<div>\n",
              "<style scoped>\n",
              "    .dataframe tbody tr th:only-of-type {\n",
              "        vertical-align: middle;\n",
              "    }\n",
              "\n",
              "    .dataframe tbody tr th {\n",
              "        vertical-align: top;\n",
              "    }\n",
              "\n",
              "    .dataframe thead th {\n",
              "        text-align: right;\n",
              "    }\n",
              "</style>\n",
              "<table border=\"1\" class=\"dataframe\">\n",
              "  <thead>\n",
              "    <tr style=\"text-align: right;\">\n",
              "      <th></th>\n",
              "      <th>Observation</th>\n",
              "      <th>Dist_Taxi</th>\n",
              "      <th>Dist_Market</th>\n",
              "      <th>Dist_Hospital</th>\n",
              "      <th>Carpet</th>\n",
              "      <th>Builtup</th>\n",
              "      <th>Parking</th>\n",
              "      <th>City_Category</th>\n",
              "      <th>Rainfall</th>\n",
              "      <th>House_Price</th>\n",
              "    </tr>\n",
              "  </thead>\n",
              "  <tbody>\n",
              "    <tr>\n",
              "      <th>811</th>\n",
              "      <td>812</td>\n",
              "      <td>NaN</td>\n",
              "      <td>NaN</td>\n",
              "      <td>NaN</td>\n",
              "      <td>NaN</td>\n",
              "      <td>NaN</td>\n",
              "      <td>Open</td>\n",
              "      <td>CAT A</td>\n",
              "      <td>440</td>\n",
              "      <td>30000</td>\n",
              "    </tr>\n",
              "  </tbody>\n",
              "</table>\n",
              "</div>"
            ],
            "text/plain": [
              "     Observation  Dist_Taxi  Dist_Market  ...  City_Category  Rainfall  House_Price\n",
              "811          812        NaN          NaN  ...          CAT A       440        30000\n",
              "\n",
              "[1 rows x 10 columns]"
            ]
          },
          "metadata": {
            "tags": []
          },
          "execution_count": 25
        }
      ]
    },
    {
      "cell_type": "code",
      "metadata": {
        "colab": {
          "base_uri": "https://localhost:8080/",
          "height": 111
        },
        "id": "DVK7j7wY0m_E",
        "outputId": "a329b512-a890-4d18-c456-c98ccd7b1500"
      },
      "source": [
        "CatA_Covered.loc[outliers_bawah_CA].head()"
      ],
      "execution_count": 26,
      "outputs": [
        {
          "output_type": "execute_result",
          "data": {
            "text/html": [
              "<div>\n",
              "<style scoped>\n",
              "    .dataframe tbody tr th:only-of-type {\n",
              "        vertical-align: middle;\n",
              "    }\n",
              "\n",
              "    .dataframe tbody tr th {\n",
              "        vertical-align: top;\n",
              "    }\n",
              "\n",
              "    .dataframe thead th {\n",
              "        text-align: right;\n",
              "    }\n",
              "</style>\n",
              "<table border=\"1\" class=\"dataframe\">\n",
              "  <thead>\n",
              "    <tr style=\"text-align: right;\">\n",
              "      <th></th>\n",
              "      <th>Observation</th>\n",
              "      <th>Dist_Taxi</th>\n",
              "      <th>Dist_Market</th>\n",
              "      <th>Dist_Hospital</th>\n",
              "      <th>Carpet</th>\n",
              "      <th>Builtup</th>\n",
              "      <th>Parking</th>\n",
              "      <th>City_Category</th>\n",
              "      <th>Rainfall</th>\n",
              "      <th>House_Price</th>\n",
              "    </tr>\n",
              "  </thead>\n",
              "  <tbody>\n",
              "    <tr>\n",
              "      <th>320</th>\n",
              "      <td>321</td>\n",
              "      <td>11240.0</td>\n",
              "      <td>9781.0</td>\n",
              "      <td>15232.0</td>\n",
              "      <td>1523.0</td>\n",
              "      <td>1813.0</td>\n",
              "      <td>Covered</td>\n",
              "      <td>CAT A</td>\n",
              "      <td>520</td>\n",
              "      <td>4496000</td>\n",
              "    </tr>\n",
              "    <tr>\n",
              "      <th>875</th>\n",
              "      <td>876</td>\n",
              "      <td>9997.0</td>\n",
              "      <td>12349.0</td>\n",
              "      <td>13043.0</td>\n",
              "      <td>1350.0</td>\n",
              "      <td>1606.0</td>\n",
              "      <td>Covered</td>\n",
              "      <td>CAT A</td>\n",
              "      <td>770</td>\n",
              "      <td>4303000</td>\n",
              "    </tr>\n",
              "  </tbody>\n",
              "</table>\n",
              "</div>"
            ],
            "text/plain": [
              "     Observation  Dist_Taxi  Dist_Market  ...  City_Category  Rainfall  House_Price\n",
              "320          321    11240.0       9781.0  ...          CAT A       520      4496000\n",
              "875          876     9997.0      12349.0  ...          CAT A       770      4303000\n",
              "\n",
              "[2 rows x 10 columns]"
            ]
          },
          "metadata": {
            "tags": []
          },
          "execution_count": 26
        }
      ]
    },
    {
      "cell_type": "code",
      "metadata": {
        "colab": {
          "base_uri": "https://localhost:8080/",
          "height": 80
        },
        "id": "OUnCDZJB1K1M",
        "outputId": "59854923-81b1-4a91-f625-13d3d46f7dfe"
      },
      "source": [
        "CatA_NPA.loc[outliers_bawah_NPA].head()"
      ],
      "execution_count": 27,
      "outputs": [
        {
          "output_type": "execute_result",
          "data": {
            "text/html": [
              "<div>\n",
              "<style scoped>\n",
              "    .dataframe tbody tr th:only-of-type {\n",
              "        vertical-align: middle;\n",
              "    }\n",
              "\n",
              "    .dataframe tbody tr th {\n",
              "        vertical-align: top;\n",
              "    }\n",
              "\n",
              "    .dataframe thead th {\n",
              "        text-align: right;\n",
              "    }\n",
              "</style>\n",
              "<table border=\"1\" class=\"dataframe\">\n",
              "  <thead>\n",
              "    <tr style=\"text-align: right;\">\n",
              "      <th></th>\n",
              "      <th>Observation</th>\n",
              "      <th>Dist_Taxi</th>\n",
              "      <th>Dist_Market</th>\n",
              "      <th>Dist_Hospital</th>\n",
              "      <th>Carpet</th>\n",
              "      <th>Builtup</th>\n",
              "      <th>Parking</th>\n",
              "      <th>City_Category</th>\n",
              "      <th>Rainfall</th>\n",
              "      <th>House_Price</th>\n",
              "    </tr>\n",
              "  </thead>\n",
              "  <tbody>\n",
              "    <tr>\n",
              "      <th>409</th>\n",
              "      <td>410</td>\n",
              "      <td>8773.0</td>\n",
              "      <td>13547.0</td>\n",
              "      <td>15551.0</td>\n",
              "      <td>1509.0</td>\n",
              "      <td>1799.0</td>\n",
              "      <td>No Parking</td>\n",
              "      <td>CAT A</td>\n",
              "      <td>960</td>\n",
              "      <td>3860000</td>\n",
              "    </tr>\n",
              "  </tbody>\n",
              "</table>\n",
              "</div>"
            ],
            "text/plain": [
              "     Observation  Dist_Taxi  Dist_Market  ...  City_Category  Rainfall  House_Price\n",
              "409          410     8773.0      13547.0  ...          CAT A       960      3860000\n",
              "\n",
              "[1 rows x 10 columns]"
            ]
          },
          "metadata": {
            "tags": []
          },
          "execution_count": 27
        }
      ]
    },
    {
      "cell_type": "code",
      "metadata": {
        "colab": {
          "base_uri": "https://localhost:8080/",
          "height": 285
        },
        "id": "HlqwlElqwTLZ",
        "outputId": "a631ed6c-bb05-4ffb-ac75-8e7d85b273c8"
      },
      "source": [
        "CatB = price2[price2.City_Category =='CAT B']\n",
        "p = sns.boxplot (x = 'House_Price', y = 'Parking', data = CatB)"
      ],
      "execution_count": 28,
      "outputs": [
        {
          "output_type": "display_data",
          "data": {
            "image/png": "[encoded data removed]",
            "text/plain": [
              "<Figure size 432x288 with 1 Axes>"
            ]
          },
          "metadata": {
            "tags": []
          }
        }
      ]
    },
    {
      "cell_type": "markdown",
      "metadata": {
        "id": "19Bzea7i_qhu"
      },
      "source": [
        "Tidak terdapat outlier bawah pada kota Category B\n"
      ]
    },
    {
      "cell_type": "code",
      "metadata": {
        "colab": {
          "base_uri": "https://localhost:8080/",
          "height": 285
        },
        "id": "Xbto5etixOGe",
        "outputId": "77a9689f-b008-41e0-ecf1-916f136ac30d"
      },
      "source": [
        "CatC = price2[price2.City_Category =='CAT C']\n",
        "p = sns.boxplot (x = 'House_Price', y = 'Parking', data = CatC)"
      ],
      "execution_count": 29,
      "outputs": [
        {
          "output_type": "display_data",
          "data": {
            "image/png": "[encoded data removed]",
            "text/plain": [
              "<Figure size 432x288 with 1 Axes>"
            ]
          },
          "metadata": {
            "tags": []
          }
        }
      ]
    },
    {
      "cell_type": "code",
      "metadata": {
        "colab": {
          "base_uri": "https://localhost:8080/",
          "height": 80
        },
        "id": "9vO9b6yT2j37",
        "outputId": "a13f75ff-5c1b-41a0-a0a5-b9c4461c3c3e"
      },
      "source": [
        "#Outlier bawah kategori C\n",
        "\n",
        "CatC_Covered = CatC[CatC.Parking == 'Covered']\n",
        "\n",
        "Q1_CC = CatC_Covered['House_Price'].quantile(0.25)\n",
        "Q3_CC = CatC_Covered['House_Price'].quantile(0.75)\n",
        "IQR_CC = Q3_CC - Q1_CC\n",
        "outliers_bawah_CC = (CatC_Covered['House_Price']< (Q1_CC - 1.5*IQR_CC))\n",
        "\n",
        "CatC_Covered.loc[outliers_bawah_CC].head()"
      ],
      "execution_count": 30,
      "outputs": [
        {
          "output_type": "execute_result",
          "data": {
            "text/html": [
              "<div>\n",
              "<style scoped>\n",
              "    .dataframe tbody tr th:only-of-type {\n",
              "        vertical-align: middle;\n",
              "    }\n",
              "\n",
              "    .dataframe tbody tr th {\n",
              "        vertical-align: top;\n",
              "    }\n",
              "\n",
              "    .dataframe thead th {\n",
              "        text-align: right;\n",
              "    }\n",
              "</style>\n",
              "<table border=\"1\" class=\"dataframe\">\n",
              "  <thead>\n",
              "    <tr style=\"text-align: right;\">\n",
              "      <th></th>\n",
              "      <th>Observation</th>\n",
              "      <th>Dist_Taxi</th>\n",
              "      <th>Dist_Market</th>\n",
              "      <th>Dist_Hospital</th>\n",
              "      <th>Carpet</th>\n",
              "      <th>Builtup</th>\n",
              "      <th>Parking</th>\n",
              "      <th>City_Category</th>\n",
              "      <th>Rainfall</th>\n",
              "      <th>House_Price</th>\n",
              "    </tr>\n",
              "  </thead>\n",
              "  <tbody>\n",
              "    <tr>\n",
              "      <th>622</th>\n",
              "      <td>623</td>\n",
              "      <td>4619.0</td>\n",
              "      <td>10768.0</td>\n",
              "      <td>11787.0</td>\n",
              "      <td>1624.0</td>\n",
              "      <td>1946.0</td>\n",
              "      <td>Covered</td>\n",
              "      <td>CAT C</td>\n",
              "      <td>870</td>\n",
              "      <td>2027000</td>\n",
              "    </tr>\n",
              "  </tbody>\n",
              "</table>\n",
              "</div>"
            ],
            "text/plain": [
              "     Observation  Dist_Taxi  Dist_Market  ...  City_Category  Rainfall  House_Price\n",
              "622          623     4619.0      10768.0  ...          CAT C       870      2027000\n",
              "\n",
              "[1 rows x 10 columns]"
            ]
          },
          "metadata": {
            "tags": []
          },
          "execution_count": 30
        }
      ]
    },
    {
      "cell_type": "code",
      "metadata": {
        "id": "xYTWIiTOZU3O"
      },
      "source": [
        ""
      ],
      "execution_count": 30,
      "outputs": []
    },
    {
      "cell_type": "markdown",
      "metadata": {
        "id": "wTZq7_pAZU3P"
      },
      "source": [
        "# Tugas 3"
      ]
    },
    {
      "cell_type": "code",
      "metadata": {
        "id": "wX0MUsPkOVAp"
      },
      "source": [
        "import warnings; warnings.simplefilter('ignore')\n",
        "import pandas as pd, matplotlib.pyplot as plt, seaborn as sns, numpy as np\n",
        "import matplotlib.cm as cm\n",
        "from collections import Counter\n",
        "plt.style.use('bmh'); sns.set()"
      ],
      "execution_count": 31,
      "outputs": []
    },
    {
      "cell_type": "code",
      "metadata": {
        "id": "eVKxBJkRmZx5"
      },
      "source": [
        "# Loading  Data\n",
        "tips = sns.load_dataset('tips')"
      ],
      "execution_count": 32,
      "outputs": []
    },
    {
      "cell_type": "markdown",
      "metadata": {
        "id": "9np1Xy3latG3"
      },
      "source": [
        "## 1. Adakah Tipe Variabel yang kurang tepat ?"
      ]
    },
    {
      "cell_type": "markdown",
      "metadata": {
        "id": "0BnTqA5IfG1z"
      },
      "source": [
        "1. Adakah Tipe Variabel yang kurang tepat ?\n",
        "  \n",
        "\n"
      ]
    },
    {
      "cell_type": "code",
      "metadata": {
        "colab": {
          "base_uri": "https://localhost:8080/",
          "height": 419
        },
        "id": "DTs4oylNRAc9",
        "scrolled": false,
        "outputId": "72145ecd-12ca-43a7-c8e4-74466dfc9229"
      },
      "source": [
        "#program reads file\n",
        "tips"
      ],
      "execution_count": 33,
      "outputs": [
        {
          "output_type": "execute_result",
          "data": {
            "text/html": [
              "<div>\n",
              "<style scoped>\n",
              "    .dataframe tbody tr th:only-of-type {\n",
              "        vertical-align: middle;\n",
              "    }\n",
              "\n",
              "    .dataframe tbody tr th {\n",
              "        vertical-align: top;\n",
              "    }\n",
              "\n",
              "    .dataframe thead th {\n",
              "        text-align: right;\n",
              "    }\n",
              "</style>\n",
              "<table border=\"1\" class=\"dataframe\">\n",
              "  <thead>\n",
              "    <tr style=\"text-align: right;\">\n",
              "      <th></th>\n",
              "      <th>total_bill</th>\n",
              "      <th>tip</th>\n",
              "      <th>sex</th>\n",
              "      <th>smoker</th>\n",
              "      <th>day</th>\n",
              "      <th>time</th>\n",
              "      <th>size</th>\n",
              "    </tr>\n",
              "  </thead>\n",
              "  <tbody>\n",
              "    <tr>\n",
              "      <th>0</th>\n",
              "      <td>16.99</td>\n",
              "      <td>1.01</td>\n",
              "      <td>Female</td>\n",
              "      <td>No</td>\n",
              "      <td>Sun</td>\n",
              "      <td>Dinner</td>\n",
              "      <td>2</td>\n",
              "    </tr>\n",
              "    <tr>\n",
              "      <th>1</th>\n",
              "      <td>10.34</td>\n",
              "      <td>1.66</td>\n",
              "      <td>Male</td>\n",
              "      <td>No</td>\n",
              "      <td>Sun</td>\n",
              "      <td>Dinner</td>\n",
              "      <td>3</td>\n",
              "    </tr>\n",
              "    <tr>\n",
              "      <th>2</th>\n",
              "      <td>21.01</td>\n",
              "      <td>3.50</td>\n",
              "      <td>Male</td>\n",
              "      <td>No</td>\n",
              "      <td>Sun</td>\n",
              "      <td>Dinner</td>\n",
              "      <td>3</td>\n",
              "    </tr>\n",
              "    <tr>\n",
              "      <th>3</th>\n",
              "      <td>23.68</td>\n",
              "      <td>3.31</td>\n",
              "      <td>Male</td>\n",
              "      <td>No</td>\n",
              "      <td>Sun</td>\n",
              "      <td>Dinner</td>\n",
              "      <td>2</td>\n",
              "    </tr>\n",
              "    <tr>\n",
              "      <th>4</th>\n",
              "      <td>24.59</td>\n",
              "      <td>3.61</td>\n",
              "      <td>Female</td>\n",
              "      <td>No</td>\n",
              "      <td>Sun</td>\n",
              "      <td>Dinner</td>\n",
              "      <td>4</td>\n",
              "    </tr>\n",
              "    <tr>\n",
              "      <th>...</th>\n",
              "      <td>...</td>\n",
              "      <td>...</td>\n",
              "      <td>...</td>\n",
              "      <td>...</td>\n",
              "      <td>...</td>\n",
              "      <td>...</td>\n",
              "      <td>...</td>\n",
              "    </tr>\n",
              "    <tr>\n",
              "      <th>239</th>\n",
              "      <td>29.03</td>\n",
              "      <td>5.92</td>\n",
              "      <td>Male</td>\n",
              "      <td>No</td>\n",
              "      <td>Sat</td>\n",
              "      <td>Dinner</td>\n",
              "      <td>3</td>\n",
              "    </tr>\n",
              "    <tr>\n",
              "      <th>240</th>\n",
              "      <td>27.18</td>\n",
              "      <td>2.00</td>\n",
              "      <td>Female</td>\n",
              "      <td>Yes</td>\n",
              "      <td>Sat</td>\n",
              "      <td>Dinner</td>\n",
              "      <td>2</td>\n",
              "    </tr>\n",
              "    <tr>\n",
              "      <th>241</th>\n",
              "      <td>22.67</td>\n",
              "      <td>2.00</td>\n",
              "      <td>Male</td>\n",
              "      <td>Yes</td>\n",
              "      <td>Sat</td>\n",
              "      <td>Dinner</td>\n",
              "      <td>2</td>\n",
              "    </tr>\n",
              "    <tr>\n",
              "      <th>242</th>\n",
              "      <td>17.82</td>\n",
              "      <td>1.75</td>\n",
              "      <td>Male</td>\n",
              "      <td>No</td>\n",
              "      <td>Sat</td>\n",
              "      <td>Dinner</td>\n",
              "      <td>2</td>\n",
              "    </tr>\n",
              "    <tr>\n",
              "      <th>243</th>\n",
              "      <td>18.78</td>\n",
              "      <td>3.00</td>\n",
              "      <td>Female</td>\n",
              "      <td>No</td>\n",
              "      <td>Thur</td>\n",
              "      <td>Dinner</td>\n",
              "      <td>2</td>\n",
              "    </tr>\n",
              "  </tbody>\n",
              "</table>\n",
              "<p>244 rows × 7 columns</p>\n",
              "</div>"
            ],
            "text/plain": [
              "     total_bill   tip     sex smoker   day    time  size\n",
              "0         16.99  1.01  Female     No   Sun  Dinner     2\n",
              "1         10.34  1.66    Male     No   Sun  Dinner     3\n",
              "2         21.01  3.50    Male     No   Sun  Dinner     3\n",
              "3         23.68  3.31    Male     No   Sun  Dinner     2\n",
              "4         24.59  3.61  Female     No   Sun  Dinner     4\n",
              "..          ...   ...     ...    ...   ...     ...   ...\n",
              "239       29.03  5.92    Male     No   Sat  Dinner     3\n",
              "240       27.18  2.00  Female    Yes   Sat  Dinner     2\n",
              "241       22.67  2.00    Male    Yes   Sat  Dinner     2\n",
              "242       17.82  1.75    Male     No   Sat  Dinner     2\n",
              "243       18.78  3.00  Female     No  Thur  Dinner     2\n",
              "\n",
              "[244 rows x 7 columns]"
            ]
          },
          "metadata": {
            "tags": []
          },
          "execution_count": 33
        }
      ]
    },
    {
      "cell_type": "markdown",
      "metadata": {
        "id": "HTbV4tMxWpxq"
      },
      "source": [
        "Terlihat pada tipe variabel 'day' dan 'time' adalah object. Sedangkan pada kenyataannya, 'day' dan 'time' bukan object. Variabel 'day' dan 'time' berupa waktu yang harusnya bertipe datetime64. Terdapat Kesalahan juga pada Tipe Variabel dalam variabel \"Smoker\", seharusnya menggunakan data type Float "
      ]
    },
    {
      "cell_type": "code",
      "metadata": {
        "id": "jthmRpgJKtSe"
      },
      "source": [
        "tips.replace(('Yes', 'No'), (True, False), inplace=True)"
      ],
      "execution_count": 34,
      "outputs": []
    },
    {
      "cell_type": "markdown",
      "metadata": {
        "id": "WX0eXHvLayVm"
      },
      "source": [
        "## 2. Apakah data numeriknya cenderung berdistribusi normal?"
      ]
    },
    {
      "cell_type": "markdown",
      "metadata": {
        "id": "X7SpOStbAjBo"
      },
      "source": [
        "2. Apakah data numeriknya cenderung berdistribusi normal?"
      ]
    },
    {
      "cell_type": "code",
      "metadata": {
        "colab": {
          "base_uri": "https://localhost:8080/",
          "height": 450
        },
        "id": "NWwJFU_yYbOG",
        "scrolled": false,
        "outputId": "b0d5345f-f9ec-4709-ea28-8e8d709a5b1b"
      },
      "source": [
        "#visualitation\n",
        "sns.displot(data=tips, x='total_bill',kde=True,color='y')\n",
        "tips.mean() #mean"
      ],
      "execution_count": 35,
      "outputs": [
        {
          "output_type": "execute_result",
          "data": {
            "text/plain": [
              "total_bill    19.785943\n",
              "tip            2.998279\n",
              "smoker         0.381148\n",
              "size           2.569672\n",
              "dtype: float64"
            ]
          },
          "metadata": {
            "tags": []
          },
          "execution_count": 35
        },
        {
          "output_type": "display_data",
          "data": {
            "image/png": "[encoded data removed]",
            "text/plain": [
              "<Figure size 360x360 with 1 Axes>"
            ]
          },
          "metadata": {
            "tags": []
          }
        }
      ]
    },
    {
      "cell_type": "markdown",
      "metadata": {
        "id": "xSFbffhSaxTH"
      },
      "source": [
        "Terlihat dari visualisasi datanya dalam plot di atas, kurvanya tidak bersifat simetris (tidak berbentuk lonceng (bell curve)) atau nilai rata ratanya bukan merupakan titik puncak kurva. Dengan demikian, data ini tidak berdistribusi normal."
      ]
    },
    {
      "cell_type": "markdown",
      "metadata": {
        "id": "0Ne9u_fSa7Pl"
      },
      "source": [
        "## 3. Apakah ada outlier, noise, missing values, dan-atau duplikasi data?\n"
      ]
    },
    {
      "cell_type": "markdown",
      "metadata": {
        "id": "0Gg_oKg_r9qi"
      },
      "source": [
        "3. Apakah ada outlier, noise, missing values, dan-atau duplikasi data?\n"
      ]
    },
    {
      "cell_type": "code",
      "metadata": {
        "colab": {
          "base_uri": "https://localhost:8080/"
        },
        "id": "yq97booHUW9E",
        "scrolled": true,
        "outputId": "f92b98c9-c7b5-4b6e-d3c8-1451154aa588"
      },
      "source": [
        "tips.info()"
      ],
      "execution_count": 36,
      "outputs": [
        {
          "output_type": "stream",
          "text": [
            "<class 'pandas.core.frame.DataFrame'>\n",
            "RangeIndex: 244 entries, 0 to 243\n",
            "Data columns (total 7 columns):\n",
            " #   Column      Non-Null Count  Dtype   \n",
            "---  ------      --------------  -----   \n",
            " 0   total_bill  244 non-null    float64 \n",
            " 1   tip         244 non-null    float64 \n",
            " 2   sex         244 non-null    category\n",
            " 3   smoker      244 non-null    bool    \n",
            " 4   day         244 non-null    category\n",
            " 5   time        244 non-null    category\n",
            " 6   size        244 non-null    int64   \n",
            "dtypes: bool(1), category(3), float64(2), int64(1)\n",
            "memory usage: 7.2 KB\n"
          ],
          "name": "stdout"
        }
      ]
    },
    {
      "cell_type": "markdown",
      "metadata": {
        "id": "iPfcnMTByDJX"
      },
      "source": [
        "### Cek Duplicate"
      ]
    },
    {
      "cell_type": "code",
      "metadata": {
        "colab": {
          "base_uri": "https://localhost:8080/"
        },
        "id": "T6Q2y7riOvtQ",
        "outputId": "0324a56c-9a80-43a0-d4cc-5f715bb75d03"
      },
      "source": [
        "#mengecek apakah ada duplikat data?\n",
        "print(tips.shape)\n",
        "tips.duplicated().sum()"
      ],
      "execution_count": 37,
      "outputs": [
        {
          "output_type": "stream",
          "text": [
            "(244, 7)\n"
          ],
          "name": "stdout"
        },
        {
          "output_type": "execute_result",
          "data": {
            "text/plain": [
              "1"
            ]
          },
          "metadata": {
            "tags": []
          },
          "execution_count": 37
        }
      ]
    },
    {
      "cell_type": "code",
      "metadata": {
        "colab": {
          "base_uri": "https://localhost:8080/"
        },
        "id": "sNx4qOiMDPZv",
        "scrolled": true,
        "outputId": "5de64c2c-c8f4-4a96-ce8a-f91d5000bfd1"
      },
      "source": [
        "#menghapus entri yang memiliki data duplikat\n",
        "tips.drop_duplicates(inplace=True)\n",
        "print(tips.duplicated().sum()) #no more duplicates\n",
        "print(tips.shape)  # re-check by printing data size"
      ],
      "execution_count": 38,
      "outputs": [
        {
          "output_type": "stream",
          "text": [
            "0\n",
            "(243, 7)\n"
          ],
          "name": "stdout"
        }
      ]
    },
    {
      "cell_type": "markdown",
      "metadata": {
        "id": "_1laXFh82R--"
      },
      "source": [
        "### Cek Missing Value"
      ]
    },
    {
      "cell_type": "code",
      "metadata": {
        "colab": {
          "base_uri": "https://localhost:8080/"
        },
        "id": "F1Yah-2HxFOG",
        "outputId": "bd798f84-c338-40a6-c616-f532b2004bd7"
      },
      "source": [
        "tips.isnull().sum()"
      ],
      "execution_count": 39,
      "outputs": [
        {
          "output_type": "execute_result",
          "data": {
            "text/plain": [
              "total_bill    0\n",
              "tip           0\n",
              "sex           0\n",
              "smoker        0\n",
              "day           0\n",
              "time          0\n",
              "size          0\n",
              "dtype: int64"
            ]
          },
          "metadata": {
            "tags": []
          },
          "execution_count": 39
        }
      ]
    },
    {
      "cell_type": "code",
      "metadata": {
        "colab": {
          "base_uri": "https://localhost:8080/"
        },
        "id": "ui6rjGGe2djt",
        "outputId": "2d11c3d2-dcfd-463f-a8f9-a4c501726f62"
      },
      "source": [
        "tips.dropna(inplace=True)\n",
        "print(tips.isnull().sum())"
      ],
      "execution_count": 40,
      "outputs": [
        {
          "output_type": "stream",
          "text": [
            "total_bill    0\n",
            "tip           0\n",
            "sex           0\n",
            "smoker        0\n",
            "day           0\n",
            "time          0\n",
            "size          0\n",
            "dtype: int64\n"
          ],
          "name": "stdout"
        }
      ]
    },
    {
      "cell_type": "markdown",
      "metadata": {
        "id": "BlSQA2Brk_q7"
      },
      "source": [
        "### Cek Outlier & Noise"
      ]
    },
    {
      "cell_type": "code",
      "metadata": {
        "colab": {
          "base_uri": "https://localhost:8080/",
          "height": 285
        },
        "id": "hPCeIgm4D0ur",
        "scrolled": true,
        "outputId": "bb912e76-5dc5-4e8d-9701-3770f58c2c43"
      },
      "source": [
        "# mengecek apakah ada outlier\n",
        "import seaborn as sns\n",
        "t = sns.boxplot(x = \"tip\", data = tips)"
      ],
      "execution_count": 41,
      "outputs": [
        {
          "output_type": "display_data",
          "data": {
            "image/png": "[encoded data removed]",
            "text/plain": [
              "<Figure size 432x288 with 1 Axes>"
            ]
          },
          "metadata": {
            "tags": []
          }
        }
      ]
    },
    {
      "cell_type": "markdown",
      "metadata": {
        "id": "3OPNN1UWHCqE"
      },
      "source": [
        "Berdasarkan boxplot di atas, terlihat bahwa ada outlier."
      ]
    },
    {
      "cell_type": "code",
      "metadata": {
        "colab": {
          "base_uri": "https://localhost:8080/"
        },
        "id": "jpSxlC4oZvVl",
        "outputId": "ff916024-ed85-4e1a-e3c8-4cabda120c9d"
      },
      "source": [
        "df = np.abs(tips.total_bill - tips.total_bill.mean())<=(2*tips.total_bill.std())\n",
        "# mu-2s<x<mu+2s\n",
        "print(df.shape)\n",
        "df.head()\n",
        "df"
      ],
      "execution_count": 42,
      "outputs": [
        {
          "output_type": "stream",
          "text": [
            "(243,)\n"
          ],
          "name": "stdout"
        },
        {
          "output_type": "execute_result",
          "data": {
            "text/plain": [
              "0      True\n",
              "1      True\n",
              "2      True\n",
              "3      True\n",
              "4      True\n",
              "       ... \n",
              "239    True\n",
              "240    True\n",
              "241    True\n",
              "242    True\n",
              "243    True\n",
              "Name: total_bill, Length: 243, dtype: bool"
            ]
          },
          "metadata": {
            "tags": []
          },
          "execution_count": 42
        }
      ]
    },
    {
      "cell_type": "code",
      "metadata": {
        "colab": {
          "base_uri": "https://localhost:8080/"
        },
        "id": "jkOPUKBqaaud",
        "outputId": "f6f13d5d-fe74-427f-e7e3-b2f870ca457d"
      },
      "source": [
        "tips2 = tips[df] # Data tanpa outliers\n",
        "print(tips2.shape, tips.shape)"
      ],
      "execution_count": 43,
      "outputs": [
        {
          "output_type": "stream",
          "text": [
            "(229, 7) (243, 7)\n"
          ],
          "name": "stdout"
        }
      ]
    },
    {
      "cell_type": "code",
      "metadata": {
        "colab": {
          "base_uri": "https://localhost:8080/"
        },
        "id": "T5x1TYZ0B2C4",
        "outputId": "aa5aabe5-f371-4871-84e8-2e5bf94ff0a8"
      },
      "source": [
        "df2 = np.abs(tips2.tip - tips2.tip.mean())<=(2*tips2.tip.std())\n",
        "# mu-2s<x<mu+2s\n",
        "print(df2.shape)\n",
        "df2.head()\n",
        "df2"
      ],
      "execution_count": 44,
      "outputs": [
        {
          "output_type": "stream",
          "text": [
            "(229,)\n"
          ],
          "name": "stdout"
        },
        {
          "output_type": "execute_result",
          "data": {
            "text/plain": [
              "0       True\n",
              "1       True\n",
              "2       True\n",
              "3       True\n",
              "4       True\n",
              "       ...  \n",
              "239    False\n",
              "240     True\n",
              "241     True\n",
              "242     True\n",
              "243     True\n",
              "Name: tip, Length: 229, dtype: bool"
            ]
          },
          "metadata": {
            "tags": []
          },
          "execution_count": 44
        }
      ]
    },
    {
      "cell_type": "code",
      "metadata": {
        "colab": {
          "base_uri": "https://localhost:8080/"
        },
        "id": "Nt6w6UavCNyS",
        "outputId": "730bbba2-3519-4d6f-bb46-179549701b21"
      },
      "source": [
        "tips3 = tips2[df2] # Data tanpa outliers & noise di tip\n",
        "tips3.shape"
      ],
      "execution_count": 45,
      "outputs": [
        {
          "output_type": "execute_result",
          "data": {
            "text/plain": [
              "(221, 7)"
            ]
          },
          "metadata": {
            "tags": []
          },
          "execution_count": 45
        }
      ]
    },
    {
      "cell_type": "code",
      "metadata": {
        "colab": {
          "base_uri": "https://localhost:8080/",
          "height": 747
        },
        "id": "2tik3Nb-aoB7",
        "outputId": "8740f717-25d4-4d3d-e4da-c8b6739497d2"
      },
      "source": [
        "p= sns.catplot(x=\"day\", y=\"total_bill\",hue=\"sex\", data=tips2)\n",
        "r= sns.catplot(x=\"day\", y=\"total_bill\",hue=\"sex\", data=tips)"
      ],
      "execution_count": 46,
      "outputs": [
        {
          "output_type": "display_data",
          "data": {
            "image/png": "[encoded data removed]",
            "text/plain": [
              "<Figure size 439.725x360 with 1 Axes>"
            ]
          },
          "metadata": {
            "tags": []
          }
        },
        {
          "output_type": "display_data",
          "data": {
            "image/png": "[encoded data removed]",
            "text/plain": [
              "<Figure size 439.725x360 with 1 Axes>"
            ]
          },
          "metadata": {
            "tags": []
          }
        }
      ]
    },
    {
      "cell_type": "markdown",
      "metadata": {
        "id": "ve7-GsqTZLZz"
      },
      "source": [
        "Setelah melihat nilai-nilai yang ditampilkan plot, terdapat noise, yang sehingga diperlukan proses pembersihan"
      ]
    },
    {
      "cell_type": "markdown",
      "metadata": {
        "id": "6YwAB2O_lK38"
      },
      "source": [
        "## 4. Apakah pelanggan pria dan wanita cenderung proporsional (balance)?"
      ]
    },
    {
      "cell_type": "code",
      "metadata": {
        "colab": {
          "base_uri": "https://localhost:8080/",
          "height": 394
        },
        "id": "MBnxwRo6SD9L",
        "outputId": "8739c3be-0e30-4b84-e4fe-b5afcf013965"
      },
      "source": [
        "plt.figure(figsize=(8,6))\n",
        "p = sns.countplot(x=\"sex\", data=tips3)"
      ],
      "execution_count": 47,
      "outputs": [
        {
          "output_type": "display_data",
          "data": {
            "image/png": "[encoded data removed]",
            "text/plain": [
              "<Figure size 576x432 with 1 Axes>"
            ]
          },
          "metadata": {
            "tags": []
          }
        }
      ]
    },
    {
      "cell_type": "markdown",
      "metadata": {
        "id": "4yV0DMPFTIlx"
      },
      "source": [
        "Berdasarkan chart di atas, dapat disimpulkan bahwa pelanggan pria dan pelanggan wanita cenderung tidak proporsional."
      ]
    },
    {
      "cell_type": "markdown",
      "metadata": {
        "id": "tisTUvCEXukC"
      },
      "source": [
        "## 5. Dari data yang ada apakah Pria atau wanita ada kecenderungan memberi tips lebih besar?"
      ]
    },
    {
      "cell_type": "markdown",
      "metadata": {
        "id": "IcLdwkba38ST"
      },
      "source": [
        "5. Dari data yang ada apakah Pria atau wanita ada kecenderungan memberi tips lebih besar?\n",
        "\n",
        "Berdasarkan plot dari data, terlihat bahwa mean dari Pria atau wanita terhadap tips adalah hampir sama. Oleh karena itu, dapat dikatakan bahwa tidak ada kecenderungan antara pria atau wanita dalam memberi tips"
      ]
    },
    {
      "cell_type": "code",
      "metadata": {
        "colab": {
          "base_uri": "https://localhost:8080/",
          "height": 382
        },
        "id": "j5a5_Hjoebgz",
        "scrolled": true,
        "outputId": "b593ead6-978b-4fda-881e-68520f254353"
      },
      "source": [
        "t = sns.catplot(x = \"sex\", y = \"tip\", data=tips3)"
      ],
      "execution_count": 48,
      "outputs": [
        {
          "output_type": "display_data",
          "data": {
            "image/png": "[encoded data removed]",
            "text/plain": [
              "<Figure size 360x360 with 1 Axes>"
            ]
          },
          "metadata": {
            "tags": []
          }
        }
      ]
    },
    {
      "cell_type": "code",
      "metadata": {
        "colab": {
          "base_uri": "https://localhost:8080/",
          "height": 142
        },
        "id": "Tj7n7gGoa-Su",
        "scrolled": true,
        "outputId": "533c9ed7-ac40-4cea-a8b3-9d50406ca5f3"
      },
      "source": [
        "tips3[[\"sex\",\"tip\"]].groupby(\"sex\").mean()"
      ],
      "execution_count": 49,
      "outputs": [
        {
          "output_type": "execute_result",
          "data": {
            "text/html": [
              "<div>\n",
              "<style scoped>\n",
              "    .dataframe tbody tr th:only-of-type {\n",
              "        vertical-align: middle;\n",
              "    }\n",
              "\n",
              "    .dataframe tbody tr th {\n",
              "        vertical-align: top;\n",
              "    }\n",
              "\n",
              "    .dataframe thead th {\n",
              "        text-align: right;\n",
              "    }\n",
              "</style>\n",
              "<table border=\"1\" class=\"dataframe\">\n",
              "  <thead>\n",
              "    <tr style=\"text-align: right;\">\n",
              "      <th></th>\n",
              "      <th>tip</th>\n",
              "    </tr>\n",
              "    <tr>\n",
              "      <th>sex</th>\n",
              "      <th></th>\n",
              "    </tr>\n",
              "  </thead>\n",
              "  <tbody>\n",
              "    <tr>\n",
              "      <th>Male</th>\n",
              "      <td>2.741377</td>\n",
              "    </tr>\n",
              "    <tr>\n",
              "      <th>Female</th>\n",
              "      <td>2.777229</td>\n",
              "    </tr>\n",
              "  </tbody>\n",
              "</table>\n",
              "</div>"
            ],
            "text/plain": [
              "             tip\n",
              "sex             \n",
              "Male    2.741377\n",
              "Female  2.777229"
            ]
          },
          "metadata": {
            "tags": []
          },
          "execution_count": 49
        }
      ]
    },
    {
      "cell_type": "markdown",
      "metadata": {
        "id": "3YPgvGyedOh4"
      },
      "source": [
        "## 6. Dari data yang ada apakah ada kecenderungan tips lebih besar di hari-hari tertentu?\n"
      ]
    },
    {
      "cell_type": "markdown",
      "metadata": {
        "id": "rnfgkgI-6oPK"
      },
      "source": [
        "6. Dari data yang ada apakah ada kecenderungan tips lebih besar di hari-hari tertentu?\n",
        "\n",
        "Berdasarkan plot dari data serta nilai mean, terlihat ada kecenderungan tips lebih besar pada hari Minggu dibandingkan hari-hari lainnya (Kamis, Jumat, dan Sabtu)"
      ]
    },
    {
      "cell_type": "code",
      "metadata": {
        "colab": {
          "base_uri": "https://localhost:8080/",
          "height": 382
        },
        "id": "ptOgr66hryta",
        "outputId": "213c90be-47fb-4fb5-dfb9-dcdf933e06e2"
      },
      "source": [
        "p= sns.catplot(x=\"day\", y=\"tip\", data=tips3)"
      ],
      "execution_count": 50,
      "outputs": [
        {
          "output_type": "display_data",
          "data": {
            "image/png": "[encoded data removed]",
            "text/plain": [
              "<Figure size 360x360 with 1 Axes>"
            ]
          },
          "metadata": {
            "tags": []
          }
        }
      ]
    },
    {
      "cell_type": "code",
      "metadata": {
        "colab": {
          "base_uri": "https://localhost:8080/",
          "height": 204
        },
        "id": "JDElZAtqgU_I",
        "outputId": "01291c54-71cb-46ba-86f2-608f771149b7"
      },
      "source": [
        "tips3[[\"day\", \"tip\"]].groupby(\"day\").mean()"
      ],
      "execution_count": 51,
      "outputs": [
        {
          "output_type": "execute_result",
          "data": {
            "text/html": [
              "<div>\n",
              "<style scoped>\n",
              "    .dataframe tbody tr th:only-of-type {\n",
              "        vertical-align: middle;\n",
              "    }\n",
              "\n",
              "    .dataframe tbody tr th {\n",
              "        vertical-align: top;\n",
              "    }\n",
              "\n",
              "    .dataframe thead th {\n",
              "        text-align: right;\n",
              "    }\n",
              "</style>\n",
              "<table border=\"1\" class=\"dataframe\">\n",
              "  <thead>\n",
              "    <tr style=\"text-align: right;\">\n",
              "      <th></th>\n",
              "      <th>tip</th>\n",
              "    </tr>\n",
              "    <tr>\n",
              "      <th>day</th>\n",
              "      <th></th>\n",
              "    </tr>\n",
              "  </thead>\n",
              "  <tbody>\n",
              "    <tr>\n",
              "      <th>Thur</th>\n",
              "      <td>2.583860</td>\n",
              "    </tr>\n",
              "    <tr>\n",
              "      <th>Fri</th>\n",
              "      <td>2.623889</td>\n",
              "    </tr>\n",
              "    <tr>\n",
              "      <th>Sat</th>\n",
              "      <td>2.643205</td>\n",
              "    </tr>\n",
              "    <tr>\n",
              "      <th>Sun</th>\n",
              "      <td>3.060882</td>\n",
              "    </tr>\n",
              "  </tbody>\n",
              "</table>\n",
              "</div>"
            ],
            "text/plain": [
              "           tip\n",
              "day           \n",
              "Thur  2.583860\n",
              "Fri   2.623889\n",
              "Sat   2.643205\n",
              "Sun   3.060882"
            ]
          },
          "metadata": {
            "tags": []
          },
          "execution_count": 51
        }
      ]
    },
    {
      "cell_type": "markdown",
      "metadata": {
        "id": "YGc7yQRdr4zg"
      },
      "source": [
        "## 7. Dari data yang ada apakah customer perokok cenderung memberi tips lebih besar?\n"
      ]
    },
    {
      "cell_type": "markdown",
      "metadata": {
        "id": "uUeE4QUD61gH"
      },
      "source": [
        "7. Dari data yang ada apakah customer perokok cenderung memberi tips lebih besar?\n",
        "\n",
        "Berdasarkan plot dari data, terlihat bahwa mean dari customer perokok atau non-perokok terhadap tips adalah hampir sama. Oleh karena itu, dapat dikatakan bahwa tidak ada kecenderungan antara customer perokok dengan customer non-perokok dalam memberi tips."
      ]
    },
    {
      "cell_type": "code",
      "metadata": {
        "colab": {
          "base_uri": "https://localhost:8080/",
          "height": 382
        },
        "id": "ultVmPQF1Nyy",
        "scrolled": true,
        "outputId": "a6b3a840-9670-4ff8-ce19-a685f4723dc6"
      },
      "source": [
        "t = sns.catplot(x = \"smoker\", y = \"tip\", data=tips3)"
      ],
      "execution_count": 52,
      "outputs": [
        {
          "output_type": "display_data",
          "data": {
            "image/png": "[encoded data removed]",
            "text/plain": [
              "<Figure size 360x360 with 1 Axes>"
            ]
          },
          "metadata": {
            "tags": []
          }
        }
      ]
    },
    {
      "cell_type": "code",
      "metadata": {
        "colab": {
          "base_uri": "https://localhost:8080/",
          "height": 142
        },
        "id": "15HuRPeCT_Rn",
        "outputId": "a1e6151f-4880-426d-8b70-3e0a3ffae837"
      },
      "source": [
        "tips3[[\"smoker\",\"tip\"]].groupby(\"smoker\").mean()"
      ],
      "execution_count": 53,
      "outputs": [
        {
          "output_type": "execute_result",
          "data": {
            "text/html": [
              "<div>\n",
              "<style scoped>\n",
              "    .dataframe tbody tr th:only-of-type {\n",
              "        vertical-align: middle;\n",
              "    }\n",
              "\n",
              "    .dataframe tbody tr th {\n",
              "        vertical-align: top;\n",
              "    }\n",
              "\n",
              "    .dataframe thead th {\n",
              "        text-align: right;\n",
              "    }\n",
              "</style>\n",
              "<table border=\"1\" class=\"dataframe\">\n",
              "  <thead>\n",
              "    <tr style=\"text-align: right;\">\n",
              "      <th></th>\n",
              "      <th>tip</th>\n",
              "    </tr>\n",
              "    <tr>\n",
              "      <th>smoker</th>\n",
              "      <th></th>\n",
              "    </tr>\n",
              "  </thead>\n",
              "  <tbody>\n",
              "    <tr>\n",
              "      <th>False</th>\n",
              "      <td>2.745643</td>\n",
              "    </tr>\n",
              "    <tr>\n",
              "      <th>True</th>\n",
              "      <td>2.770741</td>\n",
              "    </tr>\n",
              "  </tbody>\n",
              "</table>\n",
              "</div>"
            ],
            "text/plain": [
              "             tip\n",
              "smoker          \n",
              "False   2.745643\n",
              "True    2.770741"
            ]
          },
          "metadata": {
            "tags": []
          },
          "execution_count": 53
        }
      ]
    },
    {
      "cell_type": "markdown",
      "metadata": {
        "id": "VAQKZpdRwXw_"
      },
      "source": [
        "## 8. Apakah pola di nomer 5 dan 7 dipengaruhi hari?"
      ]
    },
    {
      "cell_type": "markdown",
      "metadata": {
        "id": "hAtpXXOIwe73"
      },
      "source": [
        "### Nomor 5 "
      ]
    },
    {
      "cell_type": "code",
      "metadata": {
        "colab": {
          "base_uri": "https://localhost:8080/",
          "height": 382
        },
        "id": "NRgIdNNnwgpB",
        "outputId": "46cfbb99-b044-46e4-ca5e-fb530cf11b69"
      },
      "source": [
        "r =sns.catplot(x=\"day\", y=\"total_bill\", hue=\"sex\", kind=\"swarm\",data=tips3)"
      ],
      "execution_count": 54,
      "outputs": [
        {
          "output_type": "display_data",
          "data": {
            "image/png": "[encoded data removed]",
            "text/plain": [
              "<Figure size 439.725x360 with 1 Axes>"
            ]
          },
          "metadata": {
            "tags": []
          }
        }
      ]
    },
    {
      "cell_type": "code",
      "metadata": {
        "colab": {
          "base_uri": "https://localhost:8080/",
          "height": 328
        },
        "id": "D0JgfHEVwdj3",
        "outputId": "255ce1f8-db15-45b5-dd97-9de4e53c9fb1"
      },
      "source": [
        "tips3[[\"sex\", \"tip\",\"day\"]].groupby([\"sex\",\"day\"]).mean()"
      ],
      "execution_count": 55,
      "outputs": [
        {
          "output_type": "execute_result",
          "data": {
            "text/html": [
              "<div>\n",
              "<style scoped>\n",
              "    .dataframe tbody tr th:only-of-type {\n",
              "        vertical-align: middle;\n",
              "    }\n",
              "\n",
              "    .dataframe tbody tr th {\n",
              "        vertical-align: top;\n",
              "    }\n",
              "\n",
              "    .dataframe thead th {\n",
              "        text-align: right;\n",
              "    }\n",
              "</style>\n",
              "<table border=\"1\" class=\"dataframe\">\n",
              "  <thead>\n",
              "    <tr style=\"text-align: right;\">\n",
              "      <th></th>\n",
              "      <th></th>\n",
              "      <th>tip</th>\n",
              "    </tr>\n",
              "    <tr>\n",
              "      <th>sex</th>\n",
              "      <th>day</th>\n",
              "      <th></th>\n",
              "    </tr>\n",
              "  </thead>\n",
              "  <tbody>\n",
              "    <tr>\n",
              "      <th rowspan=\"4\" valign=\"top\">Male</th>\n",
              "      <th>Thur</th>\n",
              "      <td>2.661481</td>\n",
              "    </tr>\n",
              "    <tr>\n",
              "      <th>Fri</th>\n",
              "      <td>2.466667</td>\n",
              "    </tr>\n",
              "    <tr>\n",
              "      <th>Sat</th>\n",
              "      <td>2.629231</td>\n",
              "    </tr>\n",
              "    <tr>\n",
              "      <th>Sun</th>\n",
              "      <td>2.950600</td>\n",
              "    </tr>\n",
              "    <tr>\n",
              "      <th rowspan=\"4\" valign=\"top\">Female</th>\n",
              "      <th>Thur</th>\n",
              "      <td>2.514000</td>\n",
              "    </tr>\n",
              "    <tr>\n",
              "      <th>Fri</th>\n",
              "      <td>2.781111</td>\n",
              "    </tr>\n",
              "    <tr>\n",
              "      <th>Sat</th>\n",
              "      <td>2.671154</td>\n",
              "    </tr>\n",
              "    <tr>\n",
              "      <th>Sun</th>\n",
              "      <td>3.367222</td>\n",
              "    </tr>\n",
              "  </tbody>\n",
              "</table>\n",
              "</div>"
            ],
            "text/plain": [
              "                  tip\n",
              "sex    day           \n",
              "Male   Thur  2.661481\n",
              "       Fri   2.466667\n",
              "       Sat   2.629231\n",
              "       Sun   2.950600\n",
              "Female Thur  2.514000\n",
              "       Fri   2.781111\n",
              "       Sat   2.671154\n",
              "       Sun   3.367222"
            ]
          },
          "metadata": {
            "tags": []
          },
          "execution_count": 55
        }
      ]
    },
    {
      "cell_type": "markdown",
      "metadata": {
        "id": "DMz38B2TZU3a"
      },
      "source": [
        "Pada nomor 5, terdapat pengaruh hari, dimana terlihat terdapat kecenderungan kenaikan tips pada hari minggu, baik bagi perempuan maupun pria"
      ]
    },
    {
      "cell_type": "markdown",
      "metadata": {
        "id": "9AHnXJAqwyAO"
      },
      "source": [
        "### Nomor 7"
      ]
    },
    {
      "cell_type": "code",
      "metadata": {
        "colab": {
          "base_uri": "https://localhost:8080/",
          "height": 382
        },
        "id": "3G82Pelxw2S5",
        "outputId": "d740b7c8-c860-4694-e4cb-08603f69a83b"
      },
      "source": [
        "r =sns.catplot(x=\"day\", y=\"total_bill\", hue=\"smoker\", kind=\"swarm\",data=tips3)"
      ],
      "execution_count": 56,
      "outputs": [
        {
          "output_type": "display_data",
          "data": {
            "image/png": "[encoded data removed]",
            "text/plain": [
              "<Figure size 427.475x360 with 1 Axes>"
            ]
          },
          "metadata": {
            "tags": []
          }
        }
      ]
    },
    {
      "cell_type": "code",
      "metadata": {
        "colab": {
          "base_uri": "https://localhost:8080/",
          "height": 328
        },
        "id": "yltCCdR-w2Qg",
        "outputId": "543fc3cb-36b0-40e4-c5ca-e0334e5b8401"
      },
      "source": [
        "tips3[[\"smoker\", \"tip\",\"day\"]].groupby([\"smoker\",\"day\"]).mean()"
      ],
      "execution_count": 57,
      "outputs": [
        {
          "output_type": "execute_result",
          "data": {
            "text/html": [
              "<div>\n",
              "<style scoped>\n",
              "    .dataframe tbody tr th:only-of-type {\n",
              "        vertical-align: middle;\n",
              "    }\n",
              "\n",
              "    .dataframe tbody tr th {\n",
              "        vertical-align: top;\n",
              "    }\n",
              "\n",
              "    .dataframe thead th {\n",
              "        text-align: right;\n",
              "    }\n",
              "</style>\n",
              "<table border=\"1\" class=\"dataframe\">\n",
              "  <thead>\n",
              "    <tr style=\"text-align: right;\">\n",
              "      <th></th>\n",
              "      <th></th>\n",
              "      <th>tip</th>\n",
              "    </tr>\n",
              "    <tr>\n",
              "      <th>smoker</th>\n",
              "      <th>day</th>\n",
              "      <th></th>\n",
              "    </tr>\n",
              "  </thead>\n",
              "  <tbody>\n",
              "    <tr>\n",
              "      <th rowspan=\"4\" valign=\"top\">False</th>\n",
              "      <th>Thur</th>\n",
              "      <td>2.446905</td>\n",
              "    </tr>\n",
              "    <tr>\n",
              "      <th>Fri</th>\n",
              "      <td>2.812500</td>\n",
              "    </tr>\n",
              "    <tr>\n",
              "      <th>Sat</th>\n",
              "      <td>2.692683</td>\n",
              "    </tr>\n",
              "    <tr>\n",
              "      <th>Sun</th>\n",
              "      <td>3.018302</td>\n",
              "    </tr>\n",
              "    <tr>\n",
              "      <th rowspan=\"4\" valign=\"top\">True</th>\n",
              "      <th>Thur</th>\n",
              "      <td>2.967333</td>\n",
              "    </tr>\n",
              "    <tr>\n",
              "      <th>Fri</th>\n",
              "      <td>2.570000</td>\n",
              "    </tr>\n",
              "    <tr>\n",
              "      <th>Sat</th>\n",
              "      <td>2.588378</td>\n",
              "    </tr>\n",
              "    <tr>\n",
              "      <th>Sun</th>\n",
              "      <td>3.211333</td>\n",
              "    </tr>\n",
              "  </tbody>\n",
              "</table>\n",
              "</div>"
            ],
            "text/plain": [
              "                  tip\n",
              "smoker day           \n",
              "False  Thur  2.446905\n",
              "       Fri   2.812500\n",
              "       Sat   2.692683\n",
              "       Sun   3.018302\n",
              "True   Thur  2.967333\n",
              "       Fri   2.570000\n",
              "       Sat   2.588378\n",
              "       Sun   3.211333"
            ]
          },
          "metadata": {
            "tags": []
          },
          "execution_count": 57
        }
      ]
    },
    {
      "cell_type": "markdown",
      "metadata": {
        "id": "Vh9RrP-fZU3a"
      },
      "source": [
        "Pada nomor 7, terdapat pengaruh hari, dimana terlihat terdapat kecenderungan kenaikan tips pada hari minggu, baik bagi perokok maupun bukan perokok"
      ]
    },
    {
      "cell_type": "markdown",
      "metadata": {
        "id": "eevHfGWMxAfF"
      },
      "source": [
        "## 9. Pola apalagi yang dapat anda temukan? (misal, bisakah anda menyarankan tata letak kursi/meja restaurant dari data ini?)\n"
      ]
    },
    {
      "cell_type": "markdown",
      "metadata": {
        "id": "332Bh2SmZU3b"
      },
      "source": [
        "Dari data yang didapat, kita dapat melihat bahwa terdapat kecenderungan jumlah pengunjung."
      ]
    },
    {
      "cell_type": "code",
      "metadata": {
        "colab": {
          "base_uri": "https://localhost:8080/",
          "height": 285
        },
        "id": "umtJRBXrxDQ8",
        "scrolled": true,
        "outputId": "5454f90f-40bd-4917-d93d-c45a24cd2db0"
      },
      "source": [
        "ax = sns.countplot(y = 'day', hue = 'size', palette = 'muted', data=tips3)"
      ],
      "execution_count": 58,
      "outputs": [
        {
          "output_type": "display_data",
          "data": {
            "image/png": "[encoded data removed]",
            "text/plain": [
              "<Figure size 432x288 with 1 Axes>"
            ]
          },
          "metadata": {
            "tags": []
          }
        }
      ]
    },
    {
      "cell_type": "markdown",
      "metadata": {
        "id": "LXrw2mtgZU3b"
      },
      "source": [
        "Terlihat bahwa pada hari Sabtu merupakan hari yang paling menguntungkan, dimana dapat dilakukan peningkatan pekerja pada hari itu, untuk membantu melayani pelanggan. Selain itu, kita juga bisa melihat bahwa kebanyakan pengunjung datang dengan jumlah berdua-dua. Hal ini berarti pengelola restoran dapat mengatur kursi menjadi dua-dua."
      ]
    },
    {
      "cell_type": "markdown",
      "metadata": {
        "id": "FKNk4yxQZU3b"
      },
      "source": [
        "## 10. Final question: dari hasil EDA anda saran apa saja yang akan anda berikan ke pemilik restaurant?"
      ]
    },
    {
      "cell_type": "markdown",
      "metadata": {
        "id": "sKTMWkw_ZU3b"
      },
      "source": [
        "Saran yang bisa saya berikan adalah : \n",
        "\n",
        "1.   Meningkatkan pelayan pada hari Sabtu karena merupakan hari dengan pengunjung tertinggi.\n",
        "2.   Meja sebaiknya diatur ulang agar mengakomodasi dua pelanggan.\n",
        "3.   Pemilik restaurant dapat mengubah tema restaurant dengan menarget pelanggan pria, dikarenakan terdapat kecenderungan pengunjung pria."
      ]
    }
  ]
}